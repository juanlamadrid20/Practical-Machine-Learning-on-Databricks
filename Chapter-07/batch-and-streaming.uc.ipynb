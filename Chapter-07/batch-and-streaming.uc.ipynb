{
 "cells": [
  {
   "cell_type": "markdown",
   "metadata": {
    "application/vnd.databricks.v1+cell": {
     "cellMetadata": {},
     "inputWidgets": {},
     "nuid": "7f49fbac-9c4f-449a-9107-edb18fab4a91",
     "showTitle": false,
     "tableResultSettingsMap": {},
     "title": ""
    }
   },
   "source": [
    "%md\n",
    "## Author\n",
    "\n",
    "- **Debu Sinha**\n",
    "\n",
    "## Tested Environment\n",
    "\n",
    "- **Databricks Runtime**: This notebook is tested on Databricks Runtime for Machine Learning 13.3 LTS or above.\n",
    "- **Cluster Configuration**: Single node cluster with at least 32GB RAM and 4 VCPU.\n",
    "- **Note**: The same cluster set up in Chapters 3 and 4 will be used here.\n",
    "\n",
    "## Cluster Setup Instructions\n",
    "\n",
    "1. **Create a Cluster**: \n",
    "    - Navigate to the `Compute` icon on the left sidebar and click on `Create Cluster`.\n",
    "    - Under `Policy`, select `Unrestricted`.\n",
    "    - Enter a name for your cluster, for example, `demo`, into the cluster name text box.\n",
    "    - In `Cluster Mode`, select `Single Node`.\n",
    "    - Choose `Databricks Runtime Version` 13.3 LTS (Scala 2.12, Spark 3.4.1) from the `ML` tab.\n",
    "    - On `AWS`, select `i3.xlarge` / on `Azure`, select `Standard_DS4_V2` as __Node type__.\n",
    "    - Click on `Create Cluster` and wait for your cluster to be provisioned.\n",
    "\n",
    "2. **Attach this Notebook to Your Cluster**: \n",
    "    - Click on the menu labeled `Detached` at the top left of this workbook.\n",
    "    - Select your cluster name to attach this notebook to your cluster.\n",
    "\n",
    "## Batch Deployment\n",
    "\n",
    "This notebook will go over the most common model deployment option of batch inferencing. We will load the latest model version for our <b>Bank customer churn prediction</b> problem from the model registry and load it as a python function that can be applied to a Spark Dataframe."
   ]
  },
  {
   "cell_type": "markdown",
   "metadata": {
    "application/vnd.databricks.v1+cell": {
     "cellMetadata": {},
     "inputWidgets": {},
     "nuid": "fe5cca85-b21a-4fb8-87ab-6d90490c701e",
     "showTitle": false,
     "tableResultSettingsMap": {},
     "title": ""
    }
   },
   "source": [
    "### Inference in Spark\n",
    "\n",
    "Till now we have seen how you can use differnent machine learning libraries to train your model. When it comes to deployment we can now utilize to power of Spark to distribute our trained model to more than a single node and do predictions at scale.\n",
    "\n",
    "To do this, we will use `mlflow.pyfunc.spark_udf` and pass in the `SparkSession`, name of the model, and run id.\n",
    "\n",
    "<b>Note:</b> Using UDF's in Spark means that supporting libraries must be installed on every node in the cluster.  In the case of `sklearn`, this is installed in Databricks clusters by default.  When using other libraries, you will need to install them to ensure that they will work as UDFs.  "
   ]
  },
  {
   "cell_type": "markdown",
   "metadata": {
    "application/vnd.databricks.v1+cell": {
     "cellMetadata": {},
     "inputWidgets": {},
     "nuid": "8c2d3f98-fb13-4d47-b22e-961343638558",
     "showTitle": false,
     "tableResultSettingsMap": {},
     "title": ""
    }
   },
   "source": [
    "First we will load the desired model from the model registry."
   ]
  },
  {
   "cell_type": "code",
   "execution_count": 0,
   "metadata": {
    "application/vnd.databricks.v1+cell": {
     "cellMetadata": {
      "byteLimit": 2048000,
      "rowLimit": 10000
     },
     "inputWidgets": {},
     "nuid": "060bb84b-1da9-42e8-997a-8db6e224b544",
     "showTitle": false,
     "tableResultSettingsMap": {},
     "title": ""
    }
   },
   "outputs": [],
   "source": [
    "import mlflow\n",
    "mlflow.set_registry_uri(\"databricks-uc\")\n",
    "\n"
   ]
  },
  {
   "cell_type": "code",
   "execution_count": 0,
   "metadata": {
    "application/vnd.databricks.v1+cell": {
     "cellMetadata": {
      "byteLimit": 2048000,
      "rowLimit": 10000
     },
     "inputWidgets": {},
     "nuid": "33a424c7-a997-4844-81bd-b25054fc690a",
     "showTitle": false,
     "tableResultSettingsMap": {},
     "title": ""
    }
   },
   "outputs": [],
   "source": [
    "import mlflow\n",
    "\n",
    "# the name of the model in the registry\n",
    "registry_model_name = \"juan_dev.data_science.bank_customer_churn\"\n",
    "model_uri = f\"models:/{registry_model_name}@champion\"\n",
    "\n",
    "# get the latest version of the model in staging and load it as a spark_udf.\n",
    "# MLflow easily produces a Spark user defined function (UDF).  \n",
    "# This bridges the gap between Python environments and applying models at scale using Spark.\n",
    "model = mlflow.pyfunc.spark_udf(spark, model_uri=model_uri)"
   ]
  },
  {
   "cell_type": "markdown",
   "metadata": {
    "application/vnd.databricks.v1+cell": {
     "cellMetadata": {},
     "inputWidgets": {},
     "nuid": "cfd9b044-b60d-4980-8355-d33c027ae5f9",
     "showTitle": false,
     "tableResultSettingsMap": {},
     "title": ""
    }
   },
   "source": [
    "This model was trained on raw dataset and using the Databricks AutoML. \n",
    "\n",
    "<b>Note:</b> Make sure the dataset we want to run infrence on matches the schema of the dataset the model was trained on. In the current example we will simply reuse the dataset we used to train our model.\n",
    "- As best practice keep all the model specific transformations like imputing missing values or scaling a column value should be done as part of the model pipelne and not when registering a table as feature table."
   ]
  },
  {
   "cell_type": "code",
   "execution_count": 0,
   "metadata": {
    "application/vnd.databricks.v1+cell": {
     "cellMetadata": {
      "byteLimit": 2048000,
      "rowLimit": 10000
     },
     "inputWidgets": {},
     "nuid": "56079db5-91ef-4cf5-ba26-6d9126644c8b",
     "showTitle": false,
     "tableResultSettingsMap": {},
     "title": ""
    }
   },
   "outputs": [],
   "source": [
    "spark_df = spark.table(\"juan_dev.data_science.bank_customer_features\")\n",
    "display(spark_df)"
   ]
  },
  {
   "cell_type": "markdown",
   "metadata": {
    "application/vnd.databricks.v1+cell": {
     "cellMetadata": {},
     "inputWidgets": {},
     "nuid": "5da90e0f-0986-41c7-a836-5334d3ba1cd0",
     "showTitle": false,
     "tableResultSettingsMap": {},
     "title": ""
    }
   },
   "source": [
    "<b>Note:</b> we will not send RowNumber, CustomerId, Surname and Exited columns to the model."
   ]
  },
  {
   "cell_type": "code",
   "execution_count": 0,
   "metadata": {
    "application/vnd.databricks.v1+cell": {
     "cellMetadata": {
      "byteLimit": 2048000,
      "rowLimit": 10000
     },
     "inputWidgets": {},
     "nuid": "671ddb0a-f2dd-4191-96a4-89d08eee1e54",
     "showTitle": false,
     "tableResultSettingsMap": {},
     "title": ""
    }
   },
   "outputs": [],
   "source": [
    "# exclude_colums = {'RowNumber', \"CustomerId\", \"Surname\", \"Exited\"}\n",
    "exclude_colums = {'RowNumber', \"Surname\", \"Exited\"}\n",
    "input_columns = [col for col in spark_df.columns if col not in exclude_colums]\n",
    "input_columns"
   ]
  },
  {
   "cell_type": "markdown",
   "metadata": {
    "application/vnd.databricks.v1+cell": {
     "cellMetadata": {},
     "inputWidgets": {},
     "nuid": "f9b381ab-90db-4715-85df-0a6f982b88b7",
     "showTitle": false,
     "tableResultSettingsMap": {},
     "title": ""
    }
   },
   "source": [
    "Apply the model as a standard UDF using the column names as the input to the function."
   ]
  },
  {
   "cell_type": "code",
   "execution_count": 0,
   "metadata": {
    "application/vnd.databricks.v1+cell": {
     "cellMetadata": {
      "byteLimit": 2048000,
      "rowLimit": 10000
     },
     "inputWidgets": {},
     "nuid": "92e1e01a-fcca-431d-a011-b7e9d1f7c330",
     "showTitle": false,
     "tableResultSettingsMap": {},
     "title": ""
    }
   },
   "outputs": [],
   "source": [
    "#passing non label columns to the model as input\n",
    "prediction_df = spark_df.withColumn(\"prediction\", model(*input_columns))\n",
    "\n",
    "display(prediction_df)"
   ]
  },
  {
   "cell_type": "markdown",
   "metadata": {
    "application/vnd.databricks.v1+cell": {
     "cellMetadata": {},
     "inputWidgets": {},
     "nuid": "ea2bfdee-daa6-474f-97de-bd604bf02c8c",
     "showTitle": false,
     "tableResultSettingsMap": {},
     "title": ""
    }
   },
   "source": [
    "<b>Now you can write the inference out to a database for fast access, to a Delta table, or any other file format depending on your application need.</b>"
   ]
  },
  {
   "cell_type": "markdown",
   "metadata": {
    "application/vnd.databricks.v1+cell": {
     "cellMetadata": {},
     "inputWidgets": {},
     "nuid": "1741aac6-c9e0-42e9-9dcf-172f2b56e578",
     "showTitle": false,
     "tableResultSettingsMap": {},
     "title": ""
    }
   },
   "source": [
    "__Note:__ In the above example we showcased how you can use mlflow API to perform batch inference. We didnt make use of the model trained on feature table that we created in Chapter 2. If you  want to utilize feature store API to log a trained model and also perform the batch inference check the notebook in Chapter 4 that has details on that."
   ]
  },
  {
   "cell_type": "markdown",
   "metadata": {
    "application/vnd.databricks.v1+cell": {
     "cellMetadata": {},
     "inputWidgets": {},
     "nuid": "8c7359d4-7747-4d12-bd47-6d046763d513",
     "showTitle": false,
     "tableResultSettingsMap": {},
     "title": ""
    }
   },
   "source": [
    "# Streaming Deployment"
   ]
  },
  {
   "cell_type": "markdown",
   "metadata": {
    "application/vnd.databricks.v1+cell": {
     "cellMetadata": {},
     "inputWidgets": {},
     "nuid": "f234ec6a-ec95-400c-9bf5-4f57295bce13",
     "showTitle": false,
     "tableResultSettingsMap": {},
     "title": ""
    }
   },
   "source": [
    "We can also perform continuous model inference using a technology like Spark's Structured Streaming. you can read more about this [here](https://spark.apache.org/docs/latest/structured-streaming-programming-guide.html). Using Spark for ingesting and building your Streaming ingestion pipelines and model insfrence solution is that:\n",
    "- It offers the same Dataframe API to processing streaming data as you would use with batch data.\n",
    "- provides a scalable and fault tolerant way to continuously perform inference on incoming new data.\n",
    "\n",
    "We will not go into detail of Spark structured streaming here but will cover how you can deploy model for inference on a stream of data.\n",
    "\n",
    "The first is usually to connect to a streaming data source like Kafka, Azure event bus or Kinesis. Using Spark structured streaming you can also simulate reading files as stream from a cloud storage like S3. For our example we are going to do just that.\n",
    "\n",
    "We'll read Delta table as a stream."
   ]
  },
  {
   "cell_type": "code",
   "execution_count": 0,
   "metadata": {
    "application/vnd.databricks.v1+cell": {
     "cellMetadata": {},
     "inputWidgets": {},
     "nuid": "4a2260dc-0f98-46c9-b01f-9b53f2eee843",
     "showTitle": false,
     "tableResultSettingsMap": {},
     "title": ""
    }
   },
   "outputs": [],
   "source": [
    "# right now we are just defining a streaming data source but this statement will not execute until we call an Spark action.\n",
    "raw_streaming_df = spark.readStream.format(\"delta\").option(\"ignoreChanges\", \"true\").table(\"juan_dev.mldbxbook.raw_data\").drop(*(\"RowNumber\", \"CustomerId\", \"Surname\", \"Exited\"))\n",
    "\n",
    "# if you want to read from a S3 location then use the next set of code\n",
    "# streaming_data = (spark\n",
    "#                  .readStream\n",
    "#                  .schema(schema)\n",
    "#                  .option(\"maxFilesPerTrigger\", 1)\n",
    "#                  .parquet(\"<location of parquet file>\")\n",
    "#                  .drop(*(\"RowNumber\", \"CustomerId\", \"Surname\", \"Exited\")))"
   ]
  },
  {
   "cell_type": "code",
   "execution_count": 0,
   "metadata": {
    "application/vnd.databricks.v1+cell": {
     "cellMetadata": {},
     "inputWidgets": {},
     "nuid": "eb64a38d-4c3b-4e1c-8dd8-437d76a1d1b7",
     "showTitle": false,
     "tableResultSettingsMap": {},
     "title": ""
    }
   },
   "outputs": [],
   "source": [
    "# we will use this to keep track of our streaming job\n",
    "stream_name = \"streaming_inference\""
   ]
  },
  {
   "cell_type": "code",
   "execution_count": 0,
   "metadata": {
    "application/vnd.databricks.v1+cell": {
     "cellMetadata": {},
     "inputWidgets": {},
     "nuid": "6b462c38-ca2b-48ad-944c-d5c06ecd32b6",
     "showTitle": false,
     "tableResultSettingsMap": {},
     "title": ""
    }
   },
   "outputs": [],
   "source": [
    "predictions_df = raw_streaming_df.withColumn(\"prediction\", model(*raw_streaming_df.columns))\n",
    "display(predictions_df, streamName=stream_name)"
   ]
  },
  {
   "cell_type": "code",
   "execution_count": 0,
   "metadata": {
    "application/vnd.databricks.v1+cell": {
     "cellMetadata": {},
     "inputWidgets": {},
     "nuid": "21031f10-8cf7-44a3-af8a-5ea0a13a8020",
     "showTitle": false,
     "tableResultSettingsMap": {},
     "title": ""
    }
   },
   "outputs": [],
   "source": [
    "# Spark structured stream takes some time to finish initializing and trying to shut it off will throw an error if its not active. This code will prevent it.\n",
    "active_streams = [stream.name for stream in spark.streams.active]\n",
    "active_streams\n",
    "\n",
    "import time\n",
    "start_time = time.time()\n",
    "while stream_name not in active_streams:\n",
    "  time.sleep(5)\n",
    "  # wait for 20 seconds to let the strem initialize\n",
    "  if time.time()-start_time>20:\n",
    "    # stream initialization was not kicked off or there is some network issue.\n",
    "    break"
   ]
  },
  {
   "cell_type": "code",
   "execution_count": 0,
   "metadata": {
    "application/vnd.databricks.v1+cell": {
     "cellMetadata": {},
     "inputWidgets": {},
     "nuid": "f694a129-c84d-4505-b952-81badefaab80",
     "showTitle": false,
     "tableResultSettingsMap": {},
     "title": ""
    }
   },
   "outputs": [],
   "source": [
    "# We will stop the stream after reviewing results\n",
    "for stream in spark.streams.active:\n",
    "    print(f\"Stopping {stream.name}\")\n",
    "    stream.stop() # Stop the stream"
   ]
  },
  {
   "cell_type": "markdown",
   "metadata": {
    "application/vnd.databricks.v1+cell": {
     "cellMetadata": {},
     "inputWidgets": {},
     "nuid": "9d4d71ff-889d-4095-88c8-2b7edf833bb7",
     "showTitle": false,
     "tableResultSettingsMap": {},
     "title": ""
    }
   },
   "source": [
    "\n",
    "### Write to Delta table"
   ]
  },
  {
   "cell_type": "code",
   "execution_count": 0,
   "metadata": {
    "application/vnd.databricks.v1+cell": {
     "cellMetadata": {},
     "inputWidgets": {},
     "nuid": "a491c043-238d-46a0-a21b-f07af8d83a61",
     "showTitle": false,
     "tableResultSettingsMap": {},
     "title": ""
    }
   },
   "outputs": [],
   "source": [
    "working_dir = \"/tmp\"\n",
    "# this is important for streaming queries to keep track of what records have been processed and guyrantee each record is processed only once.\n",
    "checkpoint_location = f\"{working_dir}/stream.checkpoint\"\n",
    "# this is a temporary location where we will write the predictions of our model as Delta table\n",
    "write_path = f\"{working_dir}/predictions\"\n",
    "\n",
    "(predictions_df\n",
    "    .writeStream                                           # Write the stream\n",
    "    .queryName(stream_name)                                # Name the query\n",
    "    .format(\"delta\")                                       # Use the delta format\n",
    "    .option(\"checkpointLocation\", checkpoint_location)     # Specify where to log metadata\n",
    "    .option(\"path\", write_path)                            # Specify the output path\n",
    "    .outputMode(\"append\")                                  # \"append\" means append the new data to the table\n",
    "    .start()                                               # Start the operation\n",
    ")"
   ]
  },
  {
   "cell_type": "markdown",
   "metadata": {
    "application/vnd.databricks.v1+cell": {
     "cellMetadata": {},
     "inputWidgets": {},
     "nuid": "6ea0188b-7e7a-4094-96dc-6f91d23030b2",
     "showTitle": false,
     "tableResultSettingsMap": {},
     "title": ""
    }
   },
   "source": [
    "we can take a look at what files are written to the file system"
   ]
  },
  {
   "cell_type": "code",
   "execution_count": 0,
   "metadata": {
    "application/vnd.databricks.v1+cell": {
     "cellMetadata": {},
     "inputWidgets": {},
     "nuid": "deaa44a2-0653-45ff-bd3e-d35cd0ff0f5a",
     "showTitle": false,
     "tableResultSettingsMap": {},
     "title": ""
    }
   },
   "outputs": [],
   "source": [
    "%fs\n",
    "ls /tmp/predictions/"
   ]
  },
  {
   "cell_type": "code",
   "execution_count": 0,
   "metadata": {
    "application/vnd.databricks.v1+cell": {
     "cellMetadata": {},
     "inputWidgets": {},
     "nuid": "1bfcb477-db2d-49dc-bf11-2df8afb47b66",
     "showTitle": false,
     "tableResultSettingsMap": {},
     "title": ""
    }
   },
   "outputs": [],
   "source": [
    "%sql\n",
    "select * from delta.`/tmp/predictions`"
   ]
  },
  {
   "cell_type": "code",
   "execution_count": 0,
   "metadata": {
    "application/vnd.databricks.v1+cell": {
     "cellMetadata": {},
     "inputWidgets": {},
     "nuid": "47336c7a-39ef-4660-af0f-b394029d8e55",
     "showTitle": false,
     "tableResultSettingsMap": {},
     "title": ""
    }
   },
   "outputs": [],
   "source": [
    "# We will stop the stream after writing the data to the delta table\n",
    "for stream in spark.streams.active:\n",
    "    print(f\"Stopping {stream.name}\")\n",
    "    stream.stop() # Stop the stream"
   ]
  }
 ],
 "metadata": {
  "application/vnd.databricks.v1+notebook": {
   "computePreferences": null,
   "dashboards": [],
   "environmentMetadata": null,
   "language": "python",
   "notebookMetadata": {
    "pythonIndentUnit": 4
   },
   "notebookName": "batch-and-streaming.uc",
   "widgets": {}
  },
  "language_info": {
   "name": "python"
  }
 },
 "nbformat": 4,
 "nbformat_minor": 0
}